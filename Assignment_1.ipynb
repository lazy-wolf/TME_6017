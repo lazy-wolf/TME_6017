{
  "nbformat": 4,
  "nbformat_minor": 0,
  "metadata": {
    "colab": {
      "provenance": [],
      "gpuType": "T4"
    },
    "kernelspec": {
      "name": "python3",
      "display_name": "Python 3"
    },
    "language_info": {
      "name": "python"
    },
    "accelerator": "GPU"
  },
  "cells": [
    {
      "cell_type": "markdown",
      "source": [
        "**Assignment 1**\n",
        "\n",
        "```\n",
        "# Authoured by: Wasim Dawood Shaik\n",
        "# UNB ID: 3744476\n",
        "# Date: 6-12-2023\n",
        "```\n"
      ],
      "metadata": {
        "id": "8mr-t4emO4NH"
      }
    },
    {
      "cell_type": "markdown",
      "source": [
        "**1. Describe in Function in YOUR OWN WORDS**"
      ],
      "metadata": {
        "id": "riztTIFrQ11_"
      }
    },
    {
      "cell_type": "markdown",
      "source": [
        "**tf.keras.layers.Conv2D**"
      ],
      "metadata": {
        "id": "27UC0i-VQ5PG"
      }
    },
    {
      "cell_type": "markdown",
      "source": [
        "```\n",
        "Description: The Conv2D layer is a key element in image-processing neural networks, creating a convolutional kernel\n",
        "to convolve with input, producing an output tensor.\n",
        "\n",
        "Usage: In the model, two Conv2D layers are added sequentially in different layers. The first has 32 filters\n",
        "with a 3x3 kernel and ReLU activation, expecting grayscale images of 28x28 pixels. The second adds 64 filters\n",
        "with a 3x3 kernel and ReLU activation, assuming input shape from the preceding layer. These layers are pivotal\n",
        "for extracting hierarchical features, enhancing the model's pattern recognition capabilities in the input data.\n",
        "\n",
        "Options used:\n",
        "\n",
        "filters: Integer, the dimensionality of the output space (number of filters).\n",
        "\n",
        "kernel_size: An integer or tuple specifying the height and width of the 2D convolution window.\n",
        "\n",
        "activation: Activation function to apply. ReLU is applied here.\n",
        "\n",
        "input_shape: Shape of the input data, typically required for the first layer.\n",
        "\n",
        "```\n",
        "\n"
      ],
      "metadata": {
        "id": "C31Q5vBkQ796"
      }
    },
    {
      "cell_type": "markdown",
      "source": [
        "**tf.keras.layers.MaxPooling2D**"
      ],
      "metadata": {
        "id": "Lgwly2rpS0a1"
      }
    },
    {
      "cell_type": "markdown",
      "source": [
        "```\n",
        "Description: The MaxPooling2D layer performs spatial downsampling by selecting the maximum value within a defined\n",
        "window (specified by pool_size) for each channel of the input. This window shifts along each dimension according\n",
        "to the specified strides.\n",
        "\n",
        "Usage: In the given scenario, two MaxPooling2D layers are included in the model, both with\n",
        "a pool size of (2, 2). This operation aids in capturing crucial features through spatial reduction,\n",
        "contributing to the model's overall effectiveness in processing input data.\n",
        "\n",
        "Options used:\n",
        "\n",
        "pool_size: Tuple of two integers, specifying the size of the pooling window.\n",
        "```\n"
      ],
      "metadata": {
        "id": "pRKgEj8BTTaE"
      }
    },
    {
      "cell_type": "markdown",
      "source": [
        "**tf.keras.layers.Dropout**"
      ],
      "metadata": {
        "id": "9Emf0Sn5UBU-"
      }
    },
    {
      "cell_type": "markdown",
      "source": [
        "```\n",
        "Description: The Dropout layer introduces randomness during training by randomly setting a fraction of input units to zero,\n",
        "determined by the specified rate.\n",
        "\n",
        "Usage: This stochastic process, applied thrice in the provided scenario with a dropout rate of 0.25, is a\n",
        "regularization technique designed to prevent overfitting. Inputs that are not set to zero are scaled by a factor\n",
        "to maintain the overall sum, promoting a more generalized and resilient neural network.\n",
        "\n",
        "Options used:\n",
        "\n",
        "rate: Float between 0 and 1, indicating the fraction of input units to drop.\n",
        "```"
      ],
      "metadata": {
        "id": "FbwfwoUWUDIS"
      }
    },
    {
      "cell_type": "markdown",
      "source": [
        "**tf.keras.layers.Flatten**"
      ],
      "metadata": {
        "id": "8Jq2RfvpUvKb"
      }
    },
    {
      "cell_type": "markdown",
      "source": [
        "```\n",
        "Description:The Flatten layer is applied to the input data, reshaping it from a multidimensional tensor into a\n",
        "one-dimensional vector. Crucially, this transformation does not impact the batch size. The inclusion of this layer\n",
        "is instrumental in transitioning the data flow from convolutional layers to fully connected layers within the\n",
        "neural network architecture.\n",
        "\n",
        "Usage:The Flatten layer reshapes the input data from a multidimensional tensor (5x5x64) into a one-dimensional\n",
        "vector (1600).\n",
        "```\n",
        "\n",
        "\n"
      ],
      "metadata": {
        "id": "X9a_m3Q9UzWj"
      }
    },
    {
      "cell_type": "markdown",
      "source": [
        "**tf.keras.layers.Dense**"
      ],
      "metadata": {
        "id": "APjmA6HqV4FS"
      }
    },
    {
      "cell_type": "markdown",
      "source": [
        "```\n",
        "Description: The Dense layer conducts a linear operation, defined as output = activation(dot(input, kernel) + bias).\n",
        "It applies an element-wise activation function to the result. The layer incorporates a weights matrix ('kernel')\n",
        "and, if applicable, a bias vector ('bias').\n",
        "\n",
        "Usage: In the context of the provided code, two Dense layers are added to the model. The first has 128 units\n",
        "and employs the ReLU activation function, while the second has 10 units and utilizes the softmax activation\n",
        "function. These layers contribute significantly to capturing intricate patterns and generating output suitable\n",
        "for classification tasks.\n",
        "\n",
        "Options used:\n",
        "\n",
        "units: Positive integer, dimensionality of the output space\n",
        "\n",
        "activation: Activation function to use. If you don't specify anything, no activation is applied (ie. \"linear\"\n",
        "activation: a(x) = x).\n",
        "```"
      ],
      "metadata": {
        "id": "JDxsM07HV7Zc"
      }
    },
    {
      "cell_type": "markdown",
      "source": [
        "**2. Setup and Load the MNIST Dataset**"
      ],
      "metadata": {
        "id": "zpVwf5WpWTjb"
      }
    },
    {
      "cell_type": "markdown",
      "source": [
        "**Import the necessary libraries from TensorFlow and Keras.**"
      ],
      "metadata": {
        "id": "XMa2QQouWVsv"
      }
    },
    {
      "cell_type": "code",
      "execution_count": 17,
      "metadata": {
        "id": "lFNexXSZ6z8u"
      },
      "outputs": [],
      "source": [
        "import tensorflow as tf\n",
        "from tensorflow import keras\n",
        "from tensorflow.keras import layers\n",
        "from tensorflow.keras.datasets import mnist\n",
        "from tensorflow.keras.models import Sequential\n",
        "from tensorflow.keras.layers import Dense, Dropout, Flatten\n",
        "from tensorflow.keras.layers import Conv2D, MaxPooling2D\n",
        "from tensorflow.keras import backend as K\n",
        "from sklearn.model_selection import train_test_split\n",
        "import matplotlib.pyplot as plt"
      ]
    },
    {
      "cell_type": "markdown",
      "source": [
        "**Load the MNIST dataset and split it into training and testing sets.**"
      ],
      "metadata": {
        "id": "g8U0DNi0O5g3"
      }
    },
    {
      "cell_type": "code",
      "source": [
        "(x_train, y_train), (x_test, y_test) = mnist.load_data()"
      ],
      "metadata": {
        "id": "0Cj5DalPxfEe"
      },
      "execution_count": 18,
      "outputs": []
    },
    {
      "cell_type": "code",
      "source": [
        "x_train, x_val, y_train, y_val = train_test_split(x_train, y_train, test_size=0.33, random_state=42)"
      ],
      "metadata": {
        "id": "-QPZjkDMZyoV"
      },
      "execution_count": 19,
      "outputs": []
    },
    {
      "cell_type": "markdown",
      "source": [
        "**Normalize the pixel values of the images to the range [0, 1].**"
      ],
      "metadata": {
        "id": "fheu8NXiO5yl"
      }
    },
    {
      "cell_type": "code",
      "source": [
        "x_train = x_train.reshape(x_train.shape[0], 28, 28, 1)\n",
        "x_val = x_val.reshape(x_val.shape[0], 28, 28, 1)\n",
        "x_test = x_test.reshape(x_test.shape[0], 28, 28, 1)"
      ],
      "metadata": {
        "id": "jBJjQT5JxqXd"
      },
      "execution_count": 20,
      "outputs": []
    },
    {
      "cell_type": "code",
      "source": [
        "x_train = x_train.astype('float32')\n",
        "x_val = x_val.astype('float32')\n",
        "x_test = x_test.astype('float32')"
      ],
      "metadata": {
        "id": "trzzyTkoxqa4"
      },
      "execution_count": 21,
      "outputs": []
    },
    {
      "cell_type": "code",
      "source": [
        "x_train /= 255\n",
        "x_val /= 255\n",
        "x_test /= 255"
      ],
      "metadata": {
        "id": "c6aIJyDMxqeQ"
      },
      "execution_count": 22,
      "outputs": []
    },
    {
      "cell_type": "markdown",
      "source": [
        "**Convert the class vectors to binary class matrices (one-hot encoding).**"
      ],
      "metadata": {
        "id": "ZveQ6QGcO51o"
      }
    },
    {
      "cell_type": "code",
      "source": [
        "# convert y_train, y_val and y_test to categorical one-hot encoding\n",
        "y_train = keras.utils.to_categorical(y_train, 10)\n",
        "y_val = keras.utils.to_categorical(y_val, 10)\n",
        "y_test = keras.utils.to_categorical(y_test, 10)"
      ],
      "metadata": {
        "id": "qSytLeFay1Ci"
      },
      "execution_count": 23,
      "outputs": []
    },
    {
      "cell_type": "markdown",
      "source": [
        "**3. Build the CNN Model**"
      ],
      "metadata": {
        "id": "KyV6qJrtO54v"
      }
    },
    {
      "cell_type": "markdown",
      "source": [
        "**Model Architecture**"
      ],
      "metadata": {
        "id": "zflBV79hO573"
      }
    },
    {
      "cell_type": "code",
      "source": [
        "model = Sequential()\n",
        "# add a convolutional layer\n",
        "model.add(Conv2D(32, kernel_size=(3, 3), activation='relu', input_shape=(28, 28, 1)))\n",
        "# add a max pooling layer\n",
        "model.add(MaxPooling2D(pool_size=(2, 2)))\n",
        "# add a dropout layer\n",
        "model.add(Dropout(0.25))\n",
        "# add a convolutional layer\n",
        "model.add(Conv2D(64, kernel_size=(3, 3), activation='relu'))\n",
        "# add a max pooling layer\n",
        "model.add(MaxPooling2D(pool_size=(2, 2)))\n",
        "# add a dropout layer\n",
        "model.add(Dropout(0.25))\n",
        "# add a flatten layer\n",
        "model.add(Flatten())\n",
        "# add a dense layer\n",
        "model.add(Dense(128, activation='relu'))\n",
        "# add a dropout layer\n",
        "model.add(Dropout(0.5))\n",
        "# add a dense layer\n",
        "model.add(Dense(10, activation='softmax'))"
      ],
      "metadata": {
        "id": "fcWNV5LsxfpZ"
      },
      "execution_count": 10,
      "outputs": []
    },
    {
      "cell_type": "code",
      "source": [
        "model.summary()"
      ],
      "metadata": {
        "colab": {
          "base_uri": "https://localhost:8080/"
        },
        "id": "wRvkeeEir09e",
        "outputId": "49190f35-36e9-4de4-c170-55da0d86fd22"
      },
      "execution_count": 11,
      "outputs": [
        {
          "output_type": "stream",
          "name": "stdout",
          "text": [
            "Model: \"sequential\"\n",
            "_________________________________________________________________\n",
            " Layer (type)                Output Shape              Param #   \n",
            "=================================================================\n",
            " conv2d (Conv2D)             (None, 26, 26, 32)        320       \n",
            "                                                                 \n",
            " max_pooling2d (MaxPooling2  (None, 13, 13, 32)        0         \n",
            " D)                                                              \n",
            "                                                                 \n",
            " dropout (Dropout)           (None, 13, 13, 32)        0         \n",
            "                                                                 \n",
            " conv2d_1 (Conv2D)           (None, 11, 11, 64)        18496     \n",
            "                                                                 \n",
            " max_pooling2d_1 (MaxPoolin  (None, 5, 5, 64)          0         \n",
            " g2D)                                                            \n",
            "                                                                 \n",
            " dropout_1 (Dropout)         (None, 5, 5, 64)          0         \n",
            "                                                                 \n",
            " flatten (Flatten)           (None, 1600)              0         \n",
            "                                                                 \n",
            " dense (Dense)               (None, 128)               204928    \n",
            "                                                                 \n",
            " dropout_2 (Dropout)         (None, 128)               0         \n",
            "                                                                 \n",
            " dense_1 (Dense)             (None, 10)                1290      \n",
            "                                                                 \n",
            "=================================================================\n",
            "Total params: 225034 (879.04 KB)\n",
            "Trainable params: 225034 (879.04 KB)\n",
            "Non-trainable params: 0 (0.00 Byte)\n",
            "_________________________________________________________________\n"
          ]
        }
      ]
    },
    {
      "cell_type": "markdown",
      "source": [
        "**Compilation**"
      ],
      "metadata": {
        "id": "sZ4-c8gkO5-v"
      }
    },
    {
      "cell_type": "code",
      "source": [
        "model.compile(loss=keras.losses.categorical_crossentropy, optimizer=keras.optimizers.Adam(), metrics=['accuracy'])"
      ],
      "metadata": {
        "id": "LbKuay9Vxfu4"
      },
      "execution_count": 12,
      "outputs": []
    },
    {
      "cell_type": "markdown",
      "source": [
        "**4. Train and Test the Model**"
      ],
      "metadata": {
        "id": "e550SJCOO6Bw"
      }
    },
    {
      "cell_type": "markdown",
      "source": [
        "**Train the model on the MNIST training set. Choose an appropriate batch size and number of epochs.**"
      ],
      "metadata": {
        "id": "3bydiduVO6El"
      }
    },
    {
      "cell_type": "code",
      "source": [
        "history = model.fit(x_train, y_train, batch_size=64, epochs=60, verbose=1, validation_data=(x_val, y_val))"
      ],
      "metadata": {
        "colab": {
          "base_uri": "https://localhost:8080/"
        },
        "id": "7e22skcBxfyx",
        "outputId": "e4b80666-fdd6-4f18-f5bd-62d91f7d5317"
      },
      "execution_count": 13,
      "outputs": [
        {
          "output_type": "stream",
          "name": "stdout",
          "text": [
            "Epoch 1/60\n",
            "629/629 [==============================] - 10s 8ms/step - loss: 0.3651 - accuracy: 0.8839 - val_loss: 0.0962 - val_accuracy: 0.9710\n",
            "Epoch 2/60\n",
            "629/629 [==============================] - 4s 6ms/step - loss: 0.1308 - accuracy: 0.9608 - val_loss: 0.0621 - val_accuracy: 0.9810\n",
            "Epoch 3/60\n",
            "629/629 [==============================] - 4s 6ms/step - loss: 0.0980 - accuracy: 0.9704 - val_loss: 0.0528 - val_accuracy: 0.9850\n",
            "Epoch 4/60\n",
            "629/629 [==============================] - 4s 7ms/step - loss: 0.0852 - accuracy: 0.9747 - val_loss: 0.0448 - val_accuracy: 0.9860\n",
            "Epoch 5/60\n",
            "629/629 [==============================] - 3s 6ms/step - loss: 0.0715 - accuracy: 0.9784 - val_loss: 0.0436 - val_accuracy: 0.9874\n",
            "Epoch 6/60\n",
            "629/629 [==============================] - 3s 5ms/step - loss: 0.0666 - accuracy: 0.9793 - val_loss: 0.0407 - val_accuracy: 0.9871\n",
            "Epoch 7/60\n",
            "629/629 [==============================] - 3s 5ms/step - loss: 0.0588 - accuracy: 0.9818 - val_loss: 0.0388 - val_accuracy: 0.9885\n",
            "Epoch 8/60\n",
            "629/629 [==============================] - 4s 7ms/step - loss: 0.0548 - accuracy: 0.9831 - val_loss: 0.0362 - val_accuracy: 0.9887\n",
            "Epoch 9/60\n",
            "629/629 [==============================] - 3s 5ms/step - loss: 0.0478 - accuracy: 0.9843 - val_loss: 0.0346 - val_accuracy: 0.9901\n",
            "Epoch 10/60\n",
            "629/629 [==============================] - 3s 5ms/step - loss: 0.0450 - accuracy: 0.9858 - val_loss: 0.0315 - val_accuracy: 0.9902\n",
            "Epoch 11/60\n",
            "629/629 [==============================] - 4s 6ms/step - loss: 0.0444 - accuracy: 0.9873 - val_loss: 0.0339 - val_accuracy: 0.9902\n",
            "Epoch 12/60\n",
            "629/629 [==============================] - 3s 5ms/step - loss: 0.0390 - accuracy: 0.9877 - val_loss: 0.0352 - val_accuracy: 0.9899\n",
            "Epoch 13/60\n",
            "629/629 [==============================] - 3s 5ms/step - loss: 0.0397 - accuracy: 0.9878 - val_loss: 0.0310 - val_accuracy: 0.9912\n",
            "Epoch 14/60\n",
            "629/629 [==============================] - 3s 5ms/step - loss: 0.0376 - accuracy: 0.9886 - val_loss: 0.0297 - val_accuracy: 0.9924\n",
            "Epoch 15/60\n",
            "629/629 [==============================] - 4s 6ms/step - loss: 0.0363 - accuracy: 0.9885 - val_loss: 0.0330 - val_accuracy: 0.9911\n",
            "Epoch 16/60\n",
            "629/629 [==============================] - 3s 5ms/step - loss: 0.0338 - accuracy: 0.9894 - val_loss: 0.0357 - val_accuracy: 0.9905\n",
            "Epoch 17/60\n",
            "629/629 [==============================] - 3s 5ms/step - loss: 0.0314 - accuracy: 0.9897 - val_loss: 0.0339 - val_accuracy: 0.9911\n",
            "Epoch 18/60\n",
            "629/629 [==============================] - 4s 6ms/step - loss: 0.0299 - accuracy: 0.9902 - val_loss: 0.0335 - val_accuracy: 0.9912\n",
            "Epoch 19/60\n",
            "629/629 [==============================] - 3s 5ms/step - loss: 0.0291 - accuracy: 0.9904 - val_loss: 0.0341 - val_accuracy: 0.9915\n",
            "Epoch 20/60\n",
            "629/629 [==============================] - 3s 5ms/step - loss: 0.0287 - accuracy: 0.9906 - val_loss: 0.0365 - val_accuracy: 0.9909\n",
            "Epoch 21/60\n",
            "629/629 [==============================] - 3s 5ms/step - loss: 0.0276 - accuracy: 0.9911 - val_loss: 0.0312 - val_accuracy: 0.9921\n",
            "Epoch 22/60\n",
            "629/629 [==============================] - 4s 7ms/step - loss: 0.0273 - accuracy: 0.9911 - val_loss: 0.0324 - val_accuracy: 0.9916\n",
            "Epoch 23/60\n",
            "629/629 [==============================] - 3s 5ms/step - loss: 0.0254 - accuracy: 0.9915 - val_loss: 0.0326 - val_accuracy: 0.9917\n",
            "Epoch 24/60\n",
            "629/629 [==============================] - 3s 5ms/step - loss: 0.0246 - accuracy: 0.9920 - val_loss: 0.0309 - val_accuracy: 0.9929\n",
            "Epoch 25/60\n",
            "629/629 [==============================] - 4s 6ms/step - loss: 0.0291 - accuracy: 0.9903 - val_loss: 0.0282 - val_accuracy: 0.9930\n",
            "Epoch 26/60\n",
            "629/629 [==============================] - 3s 5ms/step - loss: 0.0249 - accuracy: 0.9920 - val_loss: 0.0316 - val_accuracy: 0.9920\n",
            "Epoch 27/60\n",
            "629/629 [==============================] - 4s 6ms/step - loss: 0.0239 - accuracy: 0.9920 - val_loss: 0.0325 - val_accuracy: 0.9924\n",
            "Epoch 28/60\n",
            "629/629 [==============================] - 4s 6ms/step - loss: 0.0232 - accuracy: 0.9926 - val_loss: 0.0349 - val_accuracy: 0.9915\n",
            "Epoch 29/60\n",
            "629/629 [==============================] - 3s 5ms/step - loss: 0.0219 - accuracy: 0.9929 - val_loss: 0.0339 - val_accuracy: 0.9920\n",
            "Epoch 30/60\n",
            "629/629 [==============================] - 3s 5ms/step - loss: 0.0222 - accuracy: 0.9931 - val_loss: 0.0341 - val_accuracy: 0.9922\n",
            "Epoch 31/60\n",
            "629/629 [==============================] - 3s 5ms/step - loss: 0.0216 - accuracy: 0.9929 - val_loss: 0.0338 - val_accuracy: 0.9921\n",
            "Epoch 32/60\n",
            "629/629 [==============================] - 4s 6ms/step - loss: 0.0219 - accuracy: 0.9929 - val_loss: 0.0331 - val_accuracy: 0.9919\n",
            "Epoch 33/60\n",
            "629/629 [==============================] - 4s 6ms/step - loss: 0.0214 - accuracy: 0.9928 - val_loss: 0.0380 - val_accuracy: 0.9915\n",
            "Epoch 34/60\n",
            "629/629 [==============================] - 3s 5ms/step - loss: 0.0210 - accuracy: 0.9933 - val_loss: 0.0376 - val_accuracy: 0.9917\n",
            "Epoch 35/60\n",
            "629/629 [==============================] - 4s 7ms/step - loss: 0.0211 - accuracy: 0.9931 - val_loss: 0.0329 - val_accuracy: 0.9919\n",
            "Epoch 36/60\n",
            "629/629 [==============================] - 4s 6ms/step - loss: 0.0204 - accuracy: 0.9935 - val_loss: 0.0321 - val_accuracy: 0.9923\n",
            "Epoch 37/60\n",
            "629/629 [==============================] - 3s 5ms/step - loss: 0.0204 - accuracy: 0.9931 - val_loss: 0.0357 - val_accuracy: 0.9926\n",
            "Epoch 38/60\n",
            "629/629 [==============================] - 4s 6ms/step - loss: 0.0186 - accuracy: 0.9944 - val_loss: 0.0390 - val_accuracy: 0.9916\n",
            "Epoch 39/60\n",
            "629/629 [==============================] - 3s 5ms/step - loss: 0.0186 - accuracy: 0.9938 - val_loss: 0.0332 - val_accuracy: 0.9930\n",
            "Epoch 40/60\n",
            "629/629 [==============================] - 4s 6ms/step - loss: 0.0193 - accuracy: 0.9936 - val_loss: 0.0374 - val_accuracy: 0.9910\n",
            "Epoch 41/60\n",
            "629/629 [==============================] - 4s 6ms/step - loss: 0.0199 - accuracy: 0.9936 - val_loss: 0.0350 - val_accuracy: 0.9921\n",
            "Epoch 42/60\n",
            "629/629 [==============================] - 3s 5ms/step - loss: 0.0180 - accuracy: 0.9938 - val_loss: 0.0340 - val_accuracy: 0.9928\n",
            "Epoch 43/60\n",
            "629/629 [==============================] - 3s 5ms/step - loss: 0.0180 - accuracy: 0.9941 - val_loss: 0.0316 - val_accuracy: 0.9927\n",
            "Epoch 44/60\n",
            "629/629 [==============================] - 4s 6ms/step - loss: 0.0178 - accuracy: 0.9942 - val_loss: 0.0334 - val_accuracy: 0.9924\n",
            "Epoch 45/60\n",
            "629/629 [==============================] - 4s 6ms/step - loss: 0.0147 - accuracy: 0.9950 - val_loss: 0.0342 - val_accuracy: 0.9928\n",
            "Epoch 46/60\n",
            "629/629 [==============================] - 3s 5ms/step - loss: 0.0170 - accuracy: 0.9946 - val_loss: 0.0324 - val_accuracy: 0.9929\n",
            "Epoch 47/60\n",
            "629/629 [==============================] - 3s 5ms/step - loss: 0.0161 - accuracy: 0.9948 - val_loss: 0.0414 - val_accuracy: 0.9924\n",
            "Epoch 48/60\n",
            "629/629 [==============================] - 4s 6ms/step - loss: 0.0170 - accuracy: 0.9945 - val_loss: 0.0334 - val_accuracy: 0.9926\n",
            "Epoch 49/60\n",
            "629/629 [==============================] - 3s 5ms/step - loss: 0.0157 - accuracy: 0.9948 - val_loss: 0.0337 - val_accuracy: 0.9925\n",
            "Epoch 50/60\n",
            "629/629 [==============================] - 3s 5ms/step - loss: 0.0161 - accuracy: 0.9947 - val_loss: 0.0348 - val_accuracy: 0.9927\n",
            "Epoch 51/60\n",
            "629/629 [==============================] - 3s 5ms/step - loss: 0.0150 - accuracy: 0.9951 - val_loss: 0.0382 - val_accuracy: 0.9921\n",
            "Epoch 52/60\n",
            "629/629 [==============================] - 4s 7ms/step - loss: 0.0188 - accuracy: 0.9939 - val_loss: 0.0460 - val_accuracy: 0.9914\n",
            "Epoch 53/60\n",
            "629/629 [==============================] - 3s 5ms/step - loss: 0.0162 - accuracy: 0.9951 - val_loss: 0.0346 - val_accuracy: 0.9927\n",
            "Epoch 54/60\n",
            "629/629 [==============================] - 3s 5ms/step - loss: 0.0161 - accuracy: 0.9946 - val_loss: 0.0339 - val_accuracy: 0.9933\n",
            "Epoch 55/60\n",
            "629/629 [==============================] - 4s 6ms/step - loss: 0.0174 - accuracy: 0.9941 - val_loss: 0.0379 - val_accuracy: 0.9927\n",
            "Epoch 56/60\n",
            "629/629 [==============================] - 3s 5ms/step - loss: 0.0164 - accuracy: 0.9945 - val_loss: 0.0394 - val_accuracy: 0.9927\n",
            "Epoch 57/60\n",
            "629/629 [==============================] - 3s 5ms/step - loss: 0.0159 - accuracy: 0.9944 - val_loss: 0.0374 - val_accuracy: 0.9926\n",
            "Epoch 58/60\n",
            "629/629 [==============================] - 4s 6ms/step - loss: 0.0153 - accuracy: 0.9944 - val_loss: 0.0398 - val_accuracy: 0.9919\n",
            "Epoch 59/60\n",
            "629/629 [==============================] - 3s 5ms/step - loss: 0.0163 - accuracy: 0.9945 - val_loss: 0.0488 - val_accuracy: 0.9920\n",
            "Epoch 60/60\n",
            "629/629 [==============================] - 3s 5ms/step - loss: 0.0165 - accuracy: 0.9941 - val_loss: 0.0440 - val_accuracy: 0.9927\n"
          ]
        }
      ]
    },
    {
      "cell_type": "markdown",
      "source": [
        "**Evaluate the model on the MNIST test set and report the accuracy.**"
      ],
      "metadata": {
        "id": "VT72aHOYO6Hj"
      }
    },
    {
      "cell_type": "code",
      "source": [
        "# evaluate the model\n",
        "score = model.evaluate(x_test, y_test, verbose=0)\n",
        "# print the score\n",
        "print('Test loss:', score[0])\n",
        "print('Test accuracy:', score[1])"
      ],
      "metadata": {
        "id": "-preVB5Zxf2Z",
        "colab": {
          "base_uri": "https://localhost:8080/"
        },
        "outputId": "9405e44c-b82f-4279-ba77-17b2475f5c3b"
      },
      "execution_count": 14,
      "outputs": [
        {
          "output_type": "stream",
          "name": "stdout",
          "text": [
            "Test loss: 0.026968026533722878\n",
            "Test accuracy: 0.9937000274658203\n"
          ]
        }
      ]
    },
    {
      "cell_type": "markdown",
      "source": [
        "**Save the training history for later analysis.**"
      ],
      "metadata": {
        "id": "K4elCSUzO6KU"
      }
    },
    {
      "cell_type": "code",
      "source": [
        "history.history.keys()"
      ],
      "metadata": {
        "id": "PlJPVfSpxf5y",
        "colab": {
          "base_uri": "https://localhost:8080/"
        },
        "outputId": "be0ed3df-dc8d-4d5a-e140-6655665616a1"
      },
      "execution_count": 15,
      "outputs": [
        {
          "output_type": "execute_result",
          "data": {
            "text/plain": [
              "dict_keys(['loss', 'accuracy', 'val_loss', 'val_accuracy'])"
            ]
          },
          "metadata": {},
          "execution_count": 15
        }
      ]
    },
    {
      "cell_type": "markdown",
      "source": [
        "**5. Analysis and Reporting**"
      ],
      "metadata": {
        "id": "1fkws7jcYGe1"
      }
    },
    {
      "cell_type": "markdown",
      "source": [
        "**Plot the training and validation accuracy and loss over epochs.**"
      ],
      "metadata": {
        "id": "b1ZOtuFbYMZP"
      }
    },
    {
      "cell_type": "code",
      "source": [
        "plt.figure(figsize=(15,5))\n",
        "plt.subplot(1,2,1)\n",
        "plt.plot(history.history['accuracy'],label='Train_Accuracy')\n",
        "plt.plot(history.history['val_accuracy'],label='Validation_Accuracy')\n",
        "plt.title('Train_Accuracy and Validation_Accuracy',fontsize=15)\n",
        "plt.legend()\n",
        "\n",
        "\n",
        "plt.subplot(1,2,2)\n",
        "plt.plot(history.history['loss'],label='Train_Loss')\n",
        "plt.plot(history.history['val_loss'],label='Validation_Loss')\n",
        "plt.title('Train_Loss and Validation_Loss',fontsize=15)\n",
        "plt.legend()\n",
        "plt.show()"
      ],
      "metadata": {
        "id": "YYfAF4Qpxf9L",
        "colab": {
          "base_uri": "https://localhost:8080/",
          "height": 470
        },
        "outputId": "451e8a26-0478-4b51-d7de-1797222f1c19"
      },
      "execution_count": 16,
      "outputs": [
        {
          "output_type": "display_data",
          "data": {
            "text/plain": [
              "<Figure size 1500x500 with 2 Axes>"
            ],
            "image/png": "[encoded data removed]"
          },
          "metadata": {}
        }
      ]
    },
    {
      "cell_type": "markdown",
      "source": [
        "**Discuss any signs of overfitting or underfitting and suggest possible solutions.**"
      ],
      "metadata": {
        "id": "e69dZnaxas58"
      }
    },
    {
      "cell_type": "markdown",
      "source": [
        "```\n",
        "\n",
        "1.   Overfitting Sign: A subtle indication of overfitting surfaces at Epoch 23 as the\n",
        "validation accuracy starts declining while the training accuracy continues to rise.\n",
        "\n",
        "2.   Underfitting: No evident underfitting is observed, where the model is too simple\n",
        " to capture data patterns.\n",
        "\n",
        "Possible Solutions:\n",
        "\n",
        "1. Early Stopping: Implement early stopping based on validation loss to halt training\n",
        "when overfitting signs emerge.\n",
        "\n",
        "```\n",
        "\n",
        "\n",
        "\n"
      ],
      "metadata": {
        "id": "5U_0iFrK3eBn"
      }
    },
    {
      "cell_type": "markdown",
      "source": [
        "**Provide a brief summary of your findings and any insights gained from this assignment.**"
      ],
      "metadata": {
        "id": "dCebJXHPavQC"
      }
    },
    {
      "cell_type": "markdown",
      "source": [
        "```\n",
        "Brief Summary and Insights:\n",
        "1. High accuracy on training and validation indicates effective learning.\n",
        "2. Slight gap between training and validation losses is observed, suggesting potential\n",
        "overfitting.\n",
        "3. Learning curves show a smooth progression, indicating stable training.\n",
        "```\n",
        "\n"
      ],
      "metadata": {
        "id": "cUiYlHm35Iqd"
      }
    },
    {
      "cell_type": "code",
      "source": [],
      "metadata": {
        "id": "jiBSqLfuj0fT"
      },
      "execution_count": 16,
      "outputs": []
    }
  ]
}